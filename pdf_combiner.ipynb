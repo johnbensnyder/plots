{
 "cells": [
  {
   "cell_type": "code",
   "execution_count": 1,
   "metadata": {},
   "outputs": [],
   "source": [
    "from pathlib import Path\n",
    "import pandas as pd\n",
    "from collections import defaultdict\n",
    "import PyPDF2\n",
    "pdf_dir = \"pdfs/\"\n",
    "id_numders_csv = 'Lead_Proposals_PDFs.csv'"
   ]
  },
  {
   "cell_type": "code",
   "execution_count": 2,
   "metadata": {},
   "outputs": [],
   "source": [
    "numbers = pd.read_csv(id_numders_csv)"
   ]
  },
  {
   "cell_type": "markdown",
   "metadata": {},
   "source": [
    "There are a few ways to group the numbers. We'll use a default dict. This is a dicionary where each key has some data structure, even when it hasn't been created. For example, if we create number_groups = defaultdict(list) this will be a dictionary where all values are a list. We can then append to those lists. So each key will be a lead number, and the values of the dictionary will be a list of proposal numbers."
   ]
  },
  {
   "cell_type": "code",
   "execution_count": 3,
   "metadata": {},
   "outputs": [
    {
     "data": {
      "text/html": [
       "<div>\n",
       "<style scoped>\n",
       "    .dataframe tbody tr th:only-of-type {\n",
       "        vertical-align: middle;\n",
       "    }\n",
       "\n",
       "    .dataframe tbody tr th {\n",
       "        vertical-align: top;\n",
       "    }\n",
       "\n",
       "    .dataframe thead th {\n",
       "        text-align: right;\n",
       "    }\n",
       "</style>\n",
       "<table border=\"1\" class=\"dataframe\">\n",
       "  <thead>\n",
       "    <tr style=\"text-align: right;\">\n",
       "      <th></th>\n",
       "      <th>Lead</th>\n",
       "      <th>Proposal</th>\n",
       "      <th>PI NAME</th>\n",
       "    </tr>\n",
       "  </thead>\n",
       "  <tbody>\n",
       "    <tr>\n",
       "      <td>0</td>\n",
       "      <td>2023106</td>\n",
       "      <td>2023106</td>\n",
       "      <td>Lewis, Allison</td>\n",
       "    </tr>\n",
       "    <tr>\n",
       "      <td>1</td>\n",
       "      <td>2023288</td>\n",
       "      <td>2023288</td>\n",
       "      <td>Snyder, Ben</td>\n",
       "    </tr>\n",
       "    <tr>\n",
       "      <td>2</td>\n",
       "      <td>2023288</td>\n",
       "      <td>2023092</td>\n",
       "      <td>Some, Loser</td>\n",
       "    </tr>\n",
       "    <tr>\n",
       "      <td>3</td>\n",
       "      <td>2022392</td>\n",
       "      <td>2022392</td>\n",
       "      <td>Sanders, Bernie</td>\n",
       "    </tr>\n",
       "    <tr>\n",
       "      <td>4</td>\n",
       "      <td>2022392</td>\n",
       "      <td>2022424</td>\n",
       "      <td>Doe, Jane</td>\n",
       "    </tr>\n",
       "    <tr>\n",
       "      <td>5</td>\n",
       "      <td>2022392</td>\n",
       "      <td>2022389</td>\n",
       "      <td>Random, Person</td>\n",
       "    </tr>\n",
       "  </tbody>\n",
       "</table>\n",
       "</div>"
      ],
      "text/plain": [
       "      Lead  Proposal          PI NAME\n",
       "0  2023106   2023106   Lewis, Allison\n",
       "1  2023288   2023288      Snyder, Ben\n",
       "2  2023288   2023092      Some, Loser\n",
       "3  2022392   2022392  Sanders, Bernie\n",
       "4  2022392   2022424        Doe, Jane\n",
       "5  2022392   2022389   Random, Person"
      ]
     },
     "execution_count": 3,
     "metadata": {},
     "output_type": "execute_result"
    }
   ],
   "source": [
    "numbers"
   ]
  },
  {
   "cell_type": "code",
   "execution_count": 4,
   "metadata": {},
   "outputs": [],
   "source": [
    "number_groups = defaultdict(list)"
   ]
  },
  {
   "cell_type": "code",
   "execution_count": 5,
   "metadata": {},
   "outputs": [],
   "source": [
    "for lead, proposal in zip(numbers['Lead'], numbers['Proposal']):\n",
    "    number_groups[lead].append(proposal)"
   ]
  },
  {
   "cell_type": "markdown",
   "metadata": {},
   "source": [
    "To sort the list so that the lead proposal is always first, we can just use the built in Python `sorted` function, but with a tweak. Normally, `sorted` will sort alphabetically or numerically, but can be modified by using a lbamda function as a key. Let's use the PI names column as a list."
   ]
  },
  {
   "cell_type": "code",
   "execution_count": 6,
   "metadata": {},
   "outputs": [
    {
     "data": {
      "text/plain": [
       "array(['Lewis, Allison', 'Snyder, Ben', 'Some, Loser', 'Sanders, Bernie',\n",
       "       'Doe, Jane', 'Random, Person'], dtype=object)"
      ]
     },
     "execution_count": 6,
     "metadata": {},
     "output_type": "execute_result"
    }
   ],
   "source": [
    "a_list = numbers['PI NAME'].values\n",
    "a_list"
   ]
  },
  {
   "cell_type": "code",
   "execution_count": 7,
   "metadata": {},
   "outputs": [
    {
     "data": {
      "text/plain": [
       "['Doe, Jane',\n",
       " 'Lewis, Allison',\n",
       " 'Random, Person',\n",
       " 'Sanders, Bernie',\n",
       " 'Snyder, Ben',\n",
       " 'Some, Loser']"
      ]
     },
     "execution_count": 7,
     "metadata": {},
     "output_type": "execute_result"
    }
   ],
   "source": [
    "# sorted alphabetically by last name\n",
    "sorted(a_list)"
   ]
  },
  {
   "cell_type": "code",
   "execution_count": 8,
   "metadata": {},
   "outputs": [
    {
     "data": {
      "text/plain": [
       "['Snyder, Ben',\n",
       " 'Some, Loser',\n",
       " 'Sanders, Bernie',\n",
       " 'Lewis, Allison',\n",
       " 'Doe, Jane',\n",
       " 'Random, Person']"
      ]
     },
     "execution_count": 8,
     "metadata": {},
     "output_type": "execute_result"
    }
   ],
   "source": [
    "# using a key to force S names to appear first\n",
    "# considers anything starting with S to be key 1 and anything else 2\n",
    "# sorts according to key\n",
    "sorted(a_list, key=lambda x: 1 if x.startswith('S') else 2)"
   ]
  },
  {
   "cell_type": "code",
   "execution_count": 9,
   "metadata": {},
   "outputs": [
    {
     "data": {
      "text/plain": [
       "['Lewis, Allison',\n",
       " 'Snyder, Ben',\n",
       " 'Some, Loser',\n",
       " 'Sanders, Bernie',\n",
       " 'Doe, Jane',\n",
       " 'Random, Person']"
      ]
     },
     "execution_count": 9,
     "metadata": {},
     "output_type": "execute_result"
    }
   ],
   "source": [
    "# forcing a specific name to appear first\n",
    "sorted(a_list, key=lambda x: 1 if x=='Lewis, Allison' else 2)"
   ]
  },
  {
   "cell_type": "code",
   "execution_count": 10,
   "metadata": {},
   "outputs": [],
   "source": [
    "# creates a new dictionary with lists sorted to that the lead proposal is always first\n",
    "number_groups = {i:sorted(j, key=lambda x: 1 if x==i else 2) for i,j in number_groups.items()}"
   ]
  },
  {
   "cell_type": "markdown",
   "metadata": {},
   "source": [
    "For names, we would like a dictionary of all the lead proposal numbers, and the corresponding last name. Get this by iterating over the lead proposal numbers, the keys in the number_groups."
   ]
  },
  {
   "cell_type": "code",
   "execution_count": 11,
   "metadata": {},
   "outputs": [
    {
     "data": {
      "text/plain": [
       "dict_keys([2023106, 2023288, 2022392])"
      ]
     },
     "execution_count": 11,
     "metadata": {},
     "output_type": "execute_result"
    }
   ],
   "source": [
    "number_groups.keys()"
   ]
  },
  {
   "cell_type": "code",
   "execution_count": 12,
   "metadata": {},
   "outputs": [
    {
     "name": "stdout",
     "output_type": "stream",
     "text": [
      "      Lead  Proposal         PI NAME\n",
      "0  2023106   2023106  Lewis, Allison\n",
      "      Lead  Proposal      PI NAME\n",
      "1  2023288   2023288  Snyder, Ben\n",
      "2  2023288   2023092  Some, Loser\n",
      "      Lead  Proposal          PI NAME\n",
      "3  2022392   2022392  Sanders, Bernie\n",
      "4  2022392   2022424        Doe, Jane\n",
      "5  2022392   2022389   Random, Person\n"
     ]
    }
   ],
   "source": [
    "# use each key to subset the data\n",
    "for i in number_groups.keys():\n",
    "    print(numbers.loc[(numbers['Lead']==i)])"
   ]
  },
  {
   "cell_type": "code",
   "execution_count": 13,
   "metadata": {},
   "outputs": [
    {
     "name": "stdout",
     "output_type": "stream",
     "text": [
      "      Lead  Proposal         PI NAME\n",
      "0  2023106   2023106  Lewis, Allison\n",
      "      Lead  Proposal      PI NAME\n",
      "1  2023288   2023288  Snyder, Ben\n",
      "      Lead  Proposal          PI NAME\n",
      "3  2022392   2022392  Sanders, Bernie\n"
     ]
    }
   ],
   "source": [
    "# need to make sure we get the right row, so also subset where lead==proposal\n",
    "for i in number_groups.keys():\n",
    "    print(numbers.loc[(numbers['Lead']==i) & (numbers['Lead']==numbers['Proposal'])])"
   ]
  },
  {
   "cell_type": "code",
   "execution_count": 14,
   "metadata": {},
   "outputs": [
    {
     "name": "stdout",
     "output_type": "stream",
     "text": [
      "0    Lewis, Allison\n",
      "Name: PI NAME, dtype: object\n",
      "1    Snyder, Ben\n",
      "Name: PI NAME, dtype: object\n",
      "3    Sanders, Bernie\n",
      "Name: PI NAME, dtype: object\n"
     ]
    }
   ],
   "source": [
    "# get just the pi name\n",
    "for i in number_groups.keys():\n",
    "    print(numbers.loc[(numbers['Lead']==i) & (numbers['Lead']==numbers['Proposal'])]['PI NAME'])"
   ]
  },
  {
   "cell_type": "code",
   "execution_count": 15,
   "metadata": {},
   "outputs": [
    {
     "name": "stdout",
     "output_type": "stream",
     "text": [
      "Lewis, Allison\n",
      "Snyder, Ben\n",
      "Sanders, Bernie\n"
     ]
    }
   ],
   "source": [
    "# as a string\n",
    "for i in number_groups.keys():\n",
    "    print(numbers.loc[(numbers['Lead']==i) & (numbers['Lead']==numbers['Proposal'])]['PI NAME'].values[0])"
   ]
  },
  {
   "cell_type": "code",
   "execution_count": 16,
   "metadata": {},
   "outputs": [
    {
     "name": "stdout",
     "output_type": "stream",
     "text": [
      "Lewis\n",
      "Snyder\n",
      "Sanders\n"
     ]
    }
   ],
   "source": [
    "# split string to get last name\n",
    "for i in number_groups.keys():\n",
    "    print(numbers.loc[(numbers['Lead']==i) & \\\n",
    "                      (numbers['Lead']==numbers['Proposal'])] \\\n",
    "                      ['PI NAME'].values[0].split(',')[0])"
   ]
  },
  {
   "cell_type": "code",
   "execution_count": 17,
   "metadata": {},
   "outputs": [],
   "source": [
    "# make into a dictionary\n",
    "# get PI last names that correspond to each lead proposal\n",
    "names = {i: numbers.loc[(numbers['Lead']==i) & \\\n",
    "           (numbers['Lead']==numbers['Proposal'])]['PI NAME'].values[0].split(',')[0] \\\n",
    "             for i in number_groups.keys()}"
   ]
  },
  {
   "cell_type": "markdown",
   "metadata": {},
   "source": [
    "So now we have groups of numbers, and we can use this to select files. This is a good user for pathlib. We create a path object where all the PDFs. We can then use regular expressions to get files based on number."
   ]
  },
  {
   "cell_type": "code",
   "execution_count": 18,
   "metadata": {},
   "outputs": [],
   "source": [
    "pdfs = Path(pdf_dir)"
   ]
  },
  {
   "cell_type": "code",
   "execution_count": 19,
   "metadata": {},
   "outputs": [
    {
     "data": {
      "text/plain": [
       "[PosixPath('pdfs/2023106.pdf'), PosixPath('pdfs/2023106_COA.pdf')]"
      ]
     },
     "execution_count": 19,
     "metadata": {},
     "output_type": "execute_result"
    }
   ],
   "source": [
    "list(pdfs.glob('2023106*'))"
   ]
  },
  {
   "cell_type": "markdown",
   "metadata": {},
   "source": [
    "Note that this returns more path objects. For simplicity, you probably want just the file path as a string."
   ]
  },
  {
   "cell_type": "code",
   "execution_count": 20,
   "metadata": {},
   "outputs": [
    {
     "data": {
      "text/plain": [
       "['pdfs/2023106.pdf', 'pdfs/2023106_COA.pdf']"
      ]
     },
     "execution_count": 20,
     "metadata": {},
     "output_type": "execute_result"
    }
   ],
   "source": [
    "[i.as_posix() for i in pdfs.glob('2023106*')]"
   ]
  },
  {
   "cell_type": "markdown",
   "metadata": {},
   "source": [
    "Now let's write a function that takes a key from the dictionary and returns all files associated with it. We also want to make sure the file with just the id number appears first. We can do that by sorting by length."
   ]
  },
  {
   "cell_type": "code",
   "execution_count": 21,
   "metadata": {},
   "outputs": [],
   "source": [
    "def pdf_file_getter(a_dict_key):\n",
    "    files = []\n",
    "    for proposal in number_groups[a_dict_key]:\n",
    "        files_for_id = [i.as_posix() for i in pdfs.glob('{}*.pdf'.format(proposal))]\n",
    "        files_for_id = sorted(files_for_id, key=len)\n",
    "        files.extend(files_for_id)\n",
    "    return files"
   ]
  },
  {
   "cell_type": "code",
   "execution_count": 22,
   "metadata": {},
   "outputs": [
    {
     "data": {
      "text/plain": [
       "['pdfs/2023106.pdf', 'pdfs/2023106_COA.pdf']"
      ]
     },
     "execution_count": 22,
     "metadata": {},
     "output_type": "execute_result"
    }
   ],
   "source": [
    "pdf_file_getter(2023106)"
   ]
  },
  {
   "cell_type": "code",
   "execution_count": 23,
   "metadata": {},
   "outputs": [
    {
     "data": {
      "text/plain": [
       "['pdfs/2023288.pdf',\n",
       " 'pdfs/2023288_COA.pdf',\n",
       " 'pdfs/2023092.pdf',\n",
       " 'pdfs/2023092_COA.pdf']"
      ]
     },
     "execution_count": 23,
     "metadata": {},
     "output_type": "execute_result"
    }
   ],
   "source": [
    "pdf_file_getter(2023288)"
   ]
  },
  {
   "cell_type": "code",
   "execution_count": 24,
   "metadata": {},
   "outputs": [
    {
     "data": {
      "text/plain": [
       "['pdfs/2022392_COA.pdf', 'pdfs/2022424_COA.pdf', 'pdfs/2022389_COA.pdf']"
      ]
     },
     "execution_count": 24,
     "metadata": {},
     "output_type": "execute_result"
    }
   ],
   "source": [
    "pdf_file_getter(2022392)"
   ]
  },
  {
   "cell_type": "markdown",
   "metadata": {},
   "source": [
    "Now, a function that takes a list of files and combines them into one pdf"
   ]
  },
  {
   "cell_type": "code",
   "execution_count": 25,
   "metadata": {},
   "outputs": [],
   "source": [
    "def pdf_combiner(pdf_list):\n",
    "    pdfs = [PyPDF2.PdfFileReader(i) for i in pdf_list]\n",
    "    pdfWriter = PyPDF2.PdfFileWriter()\n",
    "    for pdf in pdfs:\n",
    "        for pagenum in range(pdf.numPages):\n",
    "            page = pdf.getPage(pagenum)\n",
    "            pdfWriter.addPage(page)\n",
    "    return pdfWriter"
   ]
  },
  {
   "cell_type": "code",
   "execution_count": 26,
   "metadata": {},
   "outputs": [
    {
     "data": {
      "text/plain": [
       "<PyPDF2.pdf.PdfFileWriter at 0x116bc1fd0>"
      ]
     },
     "execution_count": 26,
     "metadata": {},
     "output_type": "execute_result"
    }
   ],
   "source": [
    "pdf_combiner(pdf_file_getter(2022392))"
   ]
  },
  {
   "cell_type": "markdown",
   "metadata": {},
   "source": [
    "And finally, a function to write to disk."
   ]
  },
  {
   "cell_type": "code",
   "execution_count": 27,
   "metadata": {},
   "outputs": [],
   "source": [
    "def pdf_writer(pdf_object, file_name):\n",
    "    with open(file_name, 'wb') as outfile:\n",
    "        pdf_object.write(outfile)"
   ]
  },
  {
   "cell_type": "code",
   "execution_count": 28,
   "metadata": {},
   "outputs": [],
   "source": [
    "num = 2022392\n",
    "file_list = pdf_file_getter(num)\n",
    "pdf_object = pdf_combiner(file_list)\n",
    "pdf_writer(pdf_object, \"{}_{}_combined.pdf\".format(names[num], num))"
   ]
  },
  {
   "cell_type": "markdown",
   "metadata": {},
   "source": [
    "Create all files at once"
   ]
  },
  {
   "cell_type": "code",
   "execution_count": 29,
   "metadata": {},
   "outputs": [],
   "source": [
    "for num in number_groups.keys():\n",
    "    file_list = pdf_file_getter(num)\n",
    "    pdf_object = pdf_combiner(file_list)\n",
    "    pdf_writer(pdf_object, \"{}_{}_combined.pdf\".format(names[num], num))"
   ]
  },
  {
   "cell_type": "markdown",
   "metadata": {},
   "source": [
    "For shits and giggles, here's a single function to do everything."
   ]
  },
  {
   "cell_type": "code",
   "execution_count": 30,
   "metadata": {},
   "outputs": [],
   "source": [
    "def pdf_combiner(number_csv, pdf_directory, output_suffix=\"_combined\"):\n",
    "    numbers = pd.read_csv(number_csv)\n",
    "    pdf_dir = Path(pdf_directory)\n",
    "    number_groups = defaultdict(list)\n",
    "    for lead, proposal in zip(numbers['Lead'], numbers['Proposal']):\n",
    "        number_groups[lead].append(proposal)\n",
    "    number_groups = {i:sorted(j, key=lambda x: 1 if x==i else 2) \\\n",
    "                     for i,j in number_groups.items()}\n",
    "    names = {i: numbers.loc[(numbers['Lead']==i) & \\\n",
    "           (numbers['Lead']==numbers['Proposal'])]['PI NAME'].values[0].split(',')[0] \\\n",
    "             for i in number_groups.keys()}\n",
    "    def pdf_file_getter(a_dict_key):\n",
    "        files = []\n",
    "        for proposal in number_groups[a_dict_key]:\n",
    "            files_for_id = [i.as_posix() for i in pdfs.glob('{}*.pdf'.format(proposal))]\n",
    "            files_for_id = sorted(files_for_id, key=len)\n",
    "            files.extend(files_for_id)\n",
    "        return files\n",
    "    def pdf_combiner(pdf_list):\n",
    "        pdfs = [PyPDF2.PdfFileReader(i) for i in pdf_list]\n",
    "        pdfWriter = PyPDF2.PdfFileWriter()\n",
    "        for pdf in pdfs:\n",
    "            for pagenum in range(pdf.numPages):\n",
    "                page = pdf.getPage(pagenum)\n",
    "                pdfWriter.addPage(page)\n",
    "        return pdfWriter\n",
    "    def pdf_writer(pdf_object, file_name):\n",
    "        with open(file_name, 'wb') as outfile:\n",
    "            pdf_object.write(outfile)\n",
    "    for num in number_groups.keys():\n",
    "        file_list = pdf_file_getter(num)\n",
    "        pdf_object = pdf_combiner(file_list)\n",
    "        pdf_writer(pdf_object, \"{0}_{1}{2}.pdf\".format(names[num], num, output_suffix))"
   ]
  },
  {
   "cell_type": "code",
   "execution_count": 31,
   "metadata": {},
   "outputs": [],
   "source": [
    "pdf_combiner(id_numders_csv, pdf_dir)"
   ]
  },
  {
   "cell_type": "code",
   "execution_count": null,
   "metadata": {},
   "outputs": [],
   "source": []
  }
 ],
 "metadata": {
  "kernelspec": {
   "display_name": "Python 3",
   "language": "python",
   "name": "python3"
  },
  "language_info": {
   "codemirror_mode": {
    "name": "ipython",
    "version": 3
   },
   "file_extension": ".py",
   "mimetype": "text/x-python",
   "name": "python",
   "nbconvert_exporter": "python",
   "pygments_lexer": "ipython3",
   "version": "3.7.4"
  }
 },
 "nbformat": 4,
 "nbformat_minor": 2
}

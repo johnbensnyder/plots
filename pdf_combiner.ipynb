{
 "cells": [
  {
   "cell_type": "code",
   "execution_count": 58,
   "metadata": {},
   "outputs": [],
   "source": [
    "from pathlib import Path\n",
    "import pandas as pd\n",
    "from collections import defaultdict\n",
    "import PyPDF2\n",
    "pdf_dir = \"pdfs/\"\n",
    "id_numders_csv = 'Lead_Proposals_PDFs.csv'"
   ]
  },
  {
   "cell_type": "code",
   "execution_count": 28,
   "metadata": {},
   "outputs": [],
   "source": [
    "numbers = pd.read_csv(id_numders_csv)"
   ]
  },
  {
   "cell_type": "markdown",
   "metadata": {},
   "source": [
    "There are a few ways to group the numbers. We'll use a default dict. This is a dicionary where each key has some data structure, even when it hasn't been created. For example, if we create number_groups = defaultdict(list) this will be a dictionary where all values are a list. We can then append to those lists. So each key will be a lead number, and the values of the dictionary will be a list of proposal numbers."
   ]
  },
  {
   "cell_type": "code",
   "execution_count": 44,
   "metadata": {},
   "outputs": [
    {
     "data": {
      "text/html": [
       "<div>\n",
       "<style scoped>\n",
       "    .dataframe tbody tr th:only-of-type {\n",
       "        vertical-align: middle;\n",
       "    }\n",
       "\n",
       "    .dataframe tbody tr th {\n",
       "        vertical-align: top;\n",
       "    }\n",
       "\n",
       "    .dataframe thead th {\n",
       "        text-align: right;\n",
       "    }\n",
       "</style>\n",
       "<table border=\"1\" class=\"dataframe\">\n",
       "  <thead>\n",
       "    <tr style=\"text-align: right;\">\n",
       "      <th></th>\n",
       "      <th>Lead</th>\n",
       "      <th>Proposal</th>\n",
       "    </tr>\n",
       "  </thead>\n",
       "  <tbody>\n",
       "    <tr>\n",
       "      <td>0</td>\n",
       "      <td>2023106</td>\n",
       "      <td>2023106</td>\n",
       "    </tr>\n",
       "    <tr>\n",
       "      <td>1</td>\n",
       "      <td>2023288</td>\n",
       "      <td>2023288</td>\n",
       "    </tr>\n",
       "    <tr>\n",
       "      <td>2</td>\n",
       "      <td>2023288</td>\n",
       "      <td>2023092</td>\n",
       "    </tr>\n",
       "    <tr>\n",
       "      <td>3</td>\n",
       "      <td>2022392</td>\n",
       "      <td>2022392</td>\n",
       "    </tr>\n",
       "    <tr>\n",
       "      <td>4</td>\n",
       "      <td>2022392</td>\n",
       "      <td>2022424</td>\n",
       "    </tr>\n",
       "    <tr>\n",
       "      <td>5</td>\n",
       "      <td>2022392</td>\n",
       "      <td>2022389</td>\n",
       "    </tr>\n",
       "  </tbody>\n",
       "</table>\n",
       "</div>"
      ],
      "text/plain": [
       "      Lead  Proposal\n",
       "0  2023106   2023106\n",
       "1  2023288   2023288\n",
       "2  2023288   2023092\n",
       "3  2022392   2022392\n",
       "4  2022392   2022424\n",
       "5  2022392   2022389"
      ]
     },
     "execution_count": 44,
     "metadata": {},
     "output_type": "execute_result"
    }
   ],
   "source": [
    "numbers"
   ]
  },
  {
   "cell_type": "code",
   "execution_count": 45,
   "metadata": {},
   "outputs": [],
   "source": [
    "number_groups = defaultdict(list)"
   ]
  },
  {
   "cell_type": "code",
   "execution_count": 46,
   "metadata": {},
   "outputs": [],
   "source": [
    "for lead, proposal in zip(numbers['Lead'], numbers['Proposal']):\n",
    "    number_groups[lead].append(proposal)"
   ]
  },
  {
   "cell_type": "code",
   "execution_count": 47,
   "metadata": {},
   "outputs": [
    {
     "data": {
      "text/plain": [
       "defaultdict(list,\n",
       "            {2023106: [2023106],\n",
       "             2023288: [2023288, 2023092],\n",
       "             2022392: [2022392, 2022424, 2022389]})"
      ]
     },
     "execution_count": 47,
     "metadata": {},
     "output_type": "execute_result"
    }
   ],
   "source": [
    "number_groups"
   ]
  },
  {
   "cell_type": "markdown",
   "metadata": {},
   "source": [
    "So now we have groups of numbers, and we can use this to select files. This is a good user for pathlib. We create a path object where all the PDFs. We can then use regular expressions to get files based on number."
   ]
  },
  {
   "cell_type": "code",
   "execution_count": 48,
   "metadata": {},
   "outputs": [],
   "source": [
    "pdfs = Path(pdf_dir)"
   ]
  },
  {
   "cell_type": "code",
   "execution_count": 50,
   "metadata": {},
   "outputs": [
    {
     "data": {
      "text/plain": [
       "[PosixPath('pdfs/2023106.pdf'), PosixPath('pdfs/2023106_COA.pdf')]"
      ]
     },
     "execution_count": 50,
     "metadata": {},
     "output_type": "execute_result"
    }
   ],
   "source": [
    "list(pdfs.glob('2023106*'))"
   ]
  },
  {
   "cell_type": "markdown",
   "metadata": {},
   "source": [
    "Note that this returns more path objects. For simplicity, you probably want just the file path as a string."
   ]
  },
  {
   "cell_type": "code",
   "execution_count": 51,
   "metadata": {},
   "outputs": [
    {
     "data": {
      "text/plain": [
       "['pdfs/2023106.pdf', 'pdfs/2023106_COA.pdf']"
      ]
     },
     "execution_count": 51,
     "metadata": {},
     "output_type": "execute_result"
    }
   ],
   "source": [
    "[i.as_posix() for i in pdfs.glob('2023106*')]"
   ]
  },
  {
   "cell_type": "markdown",
   "metadata": {},
   "source": [
    "Now let's write a function that takes a key from the dictionary and returns all files associated with it."
   ]
  },
  {
   "cell_type": "code",
   "execution_count": 52,
   "metadata": {},
   "outputs": [],
   "source": [
    "def pdf_file_getter(a_dict_key):\n",
    "    files = []\n",
    "    for proposal in number_groups[a_dict_key]:\n",
    "        files.extend([i.as_posix() for i in pdfs.glob('{}*'.format(proposal))])\n",
    "    return files"
   ]
  },
  {
   "cell_type": "code",
   "execution_count": 53,
   "metadata": {},
   "outputs": [
    {
     "data": {
      "text/plain": [
       "['pdfs/2023106.pdf', 'pdfs/2023106_COA.pdf']"
      ]
     },
     "execution_count": 53,
     "metadata": {},
     "output_type": "execute_result"
    }
   ],
   "source": [
    "pdf_file_getter(2023106)"
   ]
  },
  {
   "cell_type": "code",
   "execution_count": 54,
   "metadata": {},
   "outputs": [
    {
     "data": {
      "text/plain": [
       "['pdfs/2023288.pdf',\n",
       " 'pdfs/2023288_COA.pdf',\n",
       " 'pdfs/2023092_COA.pdf',\n",
       " 'pdfs/2023092.pdf']"
      ]
     },
     "execution_count": 54,
     "metadata": {},
     "output_type": "execute_result"
    }
   ],
   "source": [
    "pdf_file_getter(2023288)"
   ]
  },
  {
   "cell_type": "code",
   "execution_count": 55,
   "metadata": {},
   "outputs": [
    {
     "data": {
      "text/plain": [
       "['pdfs/2022392_COA.pdf', 'pdfs/2022424_COA.pdf', 'pdfs/2022389_COA.pdf']"
      ]
     },
     "execution_count": 55,
     "metadata": {},
     "output_type": "execute_result"
    }
   ],
   "source": [
    "pdf_file_getter(2022392)"
   ]
  },
  {
   "cell_type": "markdown",
   "metadata": {},
   "source": [
    "Now, a function that takes a list of files and combines them into one pdf"
   ]
  },
  {
   "cell_type": "code",
   "execution_count": 65,
   "metadata": {},
   "outputs": [],
   "source": [
    "def pdf_combiner(pdf_list):\n",
    "    pdfs = [PyPDF2.PdfFileReader(i) for i in pdf_list]\n",
    "    pdfWriter = PyPDF2.PdfFileWriter()\n",
    "    for pdf in pdfs:\n",
    "        for pagenum in range(pdf.numPages):\n",
    "            page = pdf.getPage(pagenum)\n",
    "            pdfWriter.addPage(page)\n",
    "    return pdfWriter"
   ]
  },
  {
   "cell_type": "code",
   "execution_count": 66,
   "metadata": {},
   "outputs": [
    {
     "data": {
      "text/plain": [
       "<PyPDF2.pdf.PdfFileWriter at 0x1242d8d90>"
      ]
     },
     "execution_count": 66,
     "metadata": {},
     "output_type": "execute_result"
    }
   ],
   "source": [
    "pdf_combiner(pdf_file_getter(2022392))"
   ]
  },
  {
   "cell_type": "markdown",
   "metadata": {},
   "source": [
    "And finally, a function to write to disk."
   ]
  },
  {
   "cell_type": "code",
   "execution_count": 67,
   "metadata": {},
   "outputs": [],
   "source": [
    "def pdf_writer(pdf_object, file_name):\n",
    "    with open(file_name, 'wb') as outfile:\n",
    "        pdf_object.write(outfile)"
   ]
  },
  {
   "cell_type": "code",
   "execution_count": 68,
   "metadata": {},
   "outputs": [],
   "source": [
    "num = 2022392\n",
    "file_list = pdf_file_getter(num)\n",
    "pdf_object = pdf_combiner(file_list)\n",
    "pdf_writer(pdf_object, \"{}_combined.pdf\".format(num))"
   ]
  },
  {
   "cell_type": "markdown",
   "metadata": {},
   "source": [
    "Create all files at once"
   ]
  },
  {
   "cell_type": "code",
   "execution_count": 70,
   "metadata": {},
   "outputs": [],
   "source": [
    "for num in number_groups.keys():\n",
    "    file_list = pdf_file_getter(num)\n",
    "    pdf_object = pdf_combiner(file_list)\n",
    "    pdf_writer(pdf_object, \"{}_combined.pdf\".format(num))"
   ]
  },
  {
   "cell_type": "markdown",
   "metadata": {},
   "source": [
    "For shits and giggles, here's a single function to do everything."
   ]
  },
  {
   "cell_type": "code",
   "execution_count": 71,
   "metadata": {},
   "outputs": [],
   "source": [
    "def pdf_writer(number_csv, pdf_directory, output_suffix=\"_combined\"):\n",
    "    numbers = pd.read_csv(number_csv)\n",
    "    pdf_dir = Path(pdf_directory)\n",
    "    number_groups = defaultdict(list)\n",
    "    for lead, proposal in zip(numbers['Lead'], numbers['Proposal']):\n",
    "        number_groups[lead].append(proposal)\n",
    "    def pdf_file_getter(a_dict_key):\n",
    "        files = []\n",
    "        for proposal in number_groups[a_dict_key]:\n",
    "            files.extend([i.as_posix() for i in pdf_dir.glob('{}*'.format(proposal))])\n",
    "        return files\n",
    "    def pdf_combiner(pdf_list):\n",
    "        pdfs = [PyPDF2.PdfFileReader(i) for i in pdf_list]\n",
    "        pdfWriter = PyPDF2.PdfFileWriter()\n",
    "        for pdf in pdfs:\n",
    "            for pagenum in range(pdf.numPages):\n",
    "                page = pdf.getPage(pagenum)\n",
    "                pdfWriter.addPage(page)\n",
    "        return pdfWriter\n",
    "    def pdf_writer(pdf_object, file_name):\n",
    "        with open(file_name, 'wb') as outfile:\n",
    "            pdf_object.write(outfile)\n",
    "    for num in number_groups.keys():\n",
    "        file_list = pdf_file_getter(num)\n",
    "        pdf_object = pdf_combiner(file_list)\n",
    "        pdf_writer(pdf_object, \"{0}{1}.pdf\".format(num, output_suffix))"
   ]
  },
  {
   "cell_type": "code",
   "execution_count": 72,
   "metadata": {},
   "outputs": [],
   "source": [
    "pdf_writer(id_numders_csv, pdf_dir)"
   ]
  },
  {
   "cell_type": "code",
   "execution_count": null,
   "metadata": {},
   "outputs": [],
   "source": []
  }
 ],
 "metadata": {
  "kernelspec": {
   "display_name": "Python 3",
   "language": "python",
   "name": "python3"
  },
  "language_info": {
   "codemirror_mode": {
    "name": "ipython",
    "version": 3
   },
   "file_extension": ".py",
   "mimetype": "text/x-python",
   "name": "python",
   "nbconvert_exporter": "python",
   "pygments_lexer": "ipython3",
   "version": "3.7.4"
  }
 },
 "nbformat": 4,
 "nbformat_minor": 2
}

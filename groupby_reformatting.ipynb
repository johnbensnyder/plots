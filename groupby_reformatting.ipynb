{
 "cells": [
  {
   "cell_type": "code",
   "execution_count": 70,
   "metadata": {},
   "outputs": [],
   "source": [
    "from pathlib import Path\n",
    "import pandas as pd\n",
    "import numpy as np\n",
    "\n",
    "data_dir = Path('/Users/bensnyder/Projects/plots/data/dummy_datasets/')\n",
    "\n",
    "dfs = {df.name: pd.read_excel(df.as_posix()) for df in data_dir.glob('df*')}"
   ]
  },
  {
   "cell_type": "code",
   "execution_count": 71,
   "metadata": {},
   "outputs": [],
   "source": [
    "df1 = dfs['df.xlsx'].groupby(['revr_id', 'revr_last_name', 'revr_frst_name']) \\\n",
    ".agg({'prop_id': lambda x: len(np.unique(x)),\n",
    "'rev_stts_code': lambda x: (x=='R').astype(int).sum()/len(x),\n",
    "'rev_sent_date': lambda x: pd.to_datetime(x, format=\"%Y-%m-%d %H:%M:%S:%f\").max()}).reset_index()\\\n",
    ".merge(dfs['df.xlsx'].loc[dfs['df.xlsx']['rev_stts_code']=='R'].groupby('revr_id')\\\n",
    ".agg({'rev_sent_date': lambda x: pd.to_datetime(x, format=\"%Y-%m-%d %H:%M:%S:%f\").max()})\\\n",
    ".reset_index().rename(columns={'rev_sent_date':'last_review'}), on='revr_id')\\\n",
    ".rename(columns={'prop_id':'request_count', 'rev_stts_code': 'review_rate', 'rev_sent_date': 'last_request'})"
   ]
  },
  {
   "cell_type": "code",
   "execution_count": 72,
   "metadata": {},
   "outputs": [
    {
     "data": {
      "text/html": [
       "<div>\n",
       "<style scoped>\n",
       "    .dataframe tbody tr th:only-of-type {\n",
       "        vertical-align: middle;\n",
       "    }\n",
       "\n",
       "    .dataframe tbody tr th {\n",
       "        vertical-align: top;\n",
       "    }\n",
       "\n",
       "    .dataframe thead th {\n",
       "        text-align: right;\n",
       "    }\n",
       "</style>\n",
       "<table border=\"1\" class=\"dataframe\">\n",
       "  <thead>\n",
       "    <tr style=\"text-align: right;\">\n",
       "      <th></th>\n",
       "      <th>revr_id</th>\n",
       "      <th>revr_last_name</th>\n",
       "      <th>revr_frst_name</th>\n",
       "      <th>request_count</th>\n",
       "      <th>review_rate</th>\n",
       "      <th>last_request</th>\n",
       "      <th>last_review</th>\n",
       "    </tr>\n",
       "  </thead>\n",
       "  <tbody>\n",
       "    <tr>\n",
       "      <td>0</td>\n",
       "      <td>A12345</td>\n",
       "      <td>Lewis</td>\n",
       "      <td>Allison</td>\n",
       "      <td>4</td>\n",
       "      <td>0.250</td>\n",
       "      <td>2019-02-13</td>\n",
       "      <td>2019-02-13</td>\n",
       "    </tr>\n",
       "    <tr>\n",
       "      <td>1</td>\n",
       "      <td>B56789</td>\n",
       "      <td>Snyder</td>\n",
       "      <td>Ben</td>\n",
       "      <td>8</td>\n",
       "      <td>0.625</td>\n",
       "      <td>2020-02-13</td>\n",
       "      <td>2019-02-13</td>\n",
       "    </tr>\n",
       "    <tr>\n",
       "      <td>2</td>\n",
       "      <td>C10111</td>\n",
       "      <td>Smith</td>\n",
       "      <td>Jenn</td>\n",
       "      <td>2</td>\n",
       "      <td>0.500</td>\n",
       "      <td>2018-02-13</td>\n",
       "      <td>2001-02-13</td>\n",
       "    </tr>\n",
       "  </tbody>\n",
       "</table>\n",
       "</div>"
      ],
      "text/plain": [
       "  revr_id revr_last_name revr_frst_name  request_count  review_rate  \\\n",
       "0  A12345          Lewis        Allison              4        0.250   \n",
       "1  B56789         Snyder            Ben              8        0.625   \n",
       "2  C10111          Smith           Jenn              2        0.500   \n",
       "\n",
       "  last_request last_review  \n",
       "0   2019-02-13  2019-02-13  \n",
       "1   2020-02-13  2019-02-13  \n",
       "2   2018-02-13  2001-02-13  "
      ]
     },
     "execution_count": 72,
     "metadata": {},
     "output_type": "execute_result"
    }
   ],
   "source": [
    "df1"
   ]
  },
  {
   "cell_type": "code",
   "execution_count": null,
   "metadata": {},
   "outputs": [],
   "source": []
  }
 ],
 "metadata": {
  "kernelspec": {
   "display_name": "Python 3",
   "language": "python",
   "name": "python3"
  },
  "language_info": {
   "codemirror_mode": {
    "name": "ipython",
    "version": 3
   },
   "file_extension": ".py",
   "mimetype": "text/x-python",
   "name": "python",
   "nbconvert_exporter": "python",
   "pygments_lexer": "ipython3",
   "version": "3.7.4"
  }
 },
 "nbformat": 4,
 "nbformat_minor": 2
}
